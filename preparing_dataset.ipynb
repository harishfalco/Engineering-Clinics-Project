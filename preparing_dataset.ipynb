{
  "nbformat": 4,
  "nbformat_minor": 0,
  "metadata": {
    "colab": {
      "name": "preparing-dataset",
      "provenance": [],
      "collapsed_sections": []
    },
    "kernelspec": {
      "name": "python3",
      "display_name": "Python 3"
    },
    "language_info": {
      "name": "python"
    }
  },
  "cells": [
    {
      "cell_type": "code",
      "metadata": {
        "id": "jdvfTe-UUwDy"
      },
      "source": [
        "import numpy as np\n",
        "import pandas as pd\n",
        "import zipfile\n",
        "import csv\n",
        "import random "
      ],
      "execution_count": 18,
      "outputs": []
    },
    {
      "cell_type": "code",
      "metadata": {
        "colab": {
          "base_uri": "https://localhost:8080/"
        },
        "id": "2N_0-cMDVOcS",
        "outputId": "722d6393-0066-4c66-cde8-b75d1b329b9e"
      },
      "source": [
        "from google.colab import drive\n",
        "drive.mount('/content/drive')"
      ],
      "execution_count": 5,
      "outputs": [
        {
          "output_type": "stream",
          "name": "stdout",
          "text": [
            "Mounted at /content/drive\n"
          ]
        }
      ]
    },
    {
      "cell_type": "code",
      "metadata": {
        "id": "5gY_OAzIcYZV"
      },
      "source": [
        "archive = zipfile.ZipFile('/content/drive/MyDrive/Colab Notebooks/covid-chestxray-dataset-master.zip') \n",
        "for file in archive.namelist():\n",
        "     archive.extract(file, '.')"
      ],
      "execution_count": 7,
      "outputs": []
    },
    {
      "cell_type": "code",
      "metadata": {
        "id": "Qy3hld19cnNf"
      },
      "source": [
        "archive = zipfile.ZipFile('/content/drive/MyDrive/Colab Notebooks/rsna-pneumonia-detection-challenge.zip') \n",
        "for file in archive.namelist():\n",
        "     archive.extract(file, '.')"
      ],
      "execution_count": 8,
      "outputs": []
    },
    {
      "cell_type": "code",
      "metadata": {
        "id": "J2pFIijKVTAW"
      },
      "source": [
        ""
      ],
      "execution_count": 3,
      "outputs": []
    },
    {
      "cell_type": "code",
      "metadata": {
        "colab": {
          "base_uri": "https://localhost:8080/",
          "height": 391
        },
        "id": "xhlQe83GVXCW",
        "outputId": "cc8ea82b-8755-4424-f209-9293d4557aed"
      },
      "source": [
        ""
      ],
      "execution_count": 4,
      "outputs": [
        {
          "output_type": "error",
          "ename": "FileNotFoundError",
          "evalue": "ignored",
          "traceback": [
            "\u001b[0;31m---------------------------------------------------------------------------\u001b[0m",
            "\u001b[0;31mFileNotFoundError\u001b[0m                         Traceback (most recent call last)",
            "\u001b[0;32m<ipython-input-4-a75c1c1b595f>\u001b[0m in \u001b[0;36m<module>\u001b[0;34m()\u001b[0m\n\u001b[0;32m----> 1\u001b[0;31m \u001b[0mcsv_normal\u001b[0m \u001b[0;34m=\u001b[0m \u001b[0mpd\u001b[0m\u001b[0;34m.\u001b[0m\u001b[0mread_csv\u001b[0m\u001b[0;34m(\u001b[0m\u001b[0mkaggle_csv_normal\u001b[0m\u001b[0;34m)\u001b[0m\u001b[0;34m\u001b[0m\u001b[0;34m\u001b[0m\u001b[0m\n\u001b[0m\u001b[1;32m      2\u001b[0m \u001b[0mcsv_pneu\u001b[0m \u001b[0;34m=\u001b[0m \u001b[0mpd\u001b[0m\u001b[0;34m.\u001b[0m\u001b[0mread_csv\u001b[0m\u001b[0;34m(\u001b[0m\u001b[0mkaggle_csv_pnemonia\u001b[0m\u001b[0;34m)\u001b[0m\u001b[0;34m\u001b[0m\u001b[0;34m\u001b[0m\u001b[0m\n",
            "\u001b[0;32m/usr/local/lib/python3.7/dist-packages/pandas/io/parsers.py\u001b[0m in \u001b[0;36mread_csv\u001b[0;34m(filepath_or_buffer, sep, delimiter, header, names, index_col, usecols, squeeze, prefix, mangle_dupe_cols, dtype, engine, converters, true_values, false_values, skipinitialspace, skiprows, skipfooter, nrows, na_values, keep_default_na, na_filter, verbose, skip_blank_lines, parse_dates, infer_datetime_format, keep_date_col, date_parser, dayfirst, cache_dates, iterator, chunksize, compression, thousands, decimal, lineterminator, quotechar, quoting, doublequote, escapechar, comment, encoding, dialect, error_bad_lines, warn_bad_lines, delim_whitespace, low_memory, memory_map, float_precision)\u001b[0m\n\u001b[1;32m    686\u001b[0m     )\n\u001b[1;32m    687\u001b[0m \u001b[0;34m\u001b[0m\u001b[0m\n\u001b[0;32m--> 688\u001b[0;31m     \u001b[0;32mreturn\u001b[0m \u001b[0m_read\u001b[0m\u001b[0;34m(\u001b[0m\u001b[0mfilepath_or_buffer\u001b[0m\u001b[0;34m,\u001b[0m \u001b[0mkwds\u001b[0m\u001b[0;34m)\u001b[0m\u001b[0;34m\u001b[0m\u001b[0;34m\u001b[0m\u001b[0m\n\u001b[0m\u001b[1;32m    689\u001b[0m \u001b[0;34m\u001b[0m\u001b[0m\n\u001b[1;32m    690\u001b[0m \u001b[0;34m\u001b[0m\u001b[0m\n",
            "\u001b[0;32m/usr/local/lib/python3.7/dist-packages/pandas/io/parsers.py\u001b[0m in \u001b[0;36m_read\u001b[0;34m(filepath_or_buffer, kwds)\u001b[0m\n\u001b[1;32m    452\u001b[0m \u001b[0;34m\u001b[0m\u001b[0m\n\u001b[1;32m    453\u001b[0m     \u001b[0;31m# Create the parser.\u001b[0m\u001b[0;34m\u001b[0m\u001b[0;34m\u001b[0m\u001b[0;34m\u001b[0m\u001b[0m\n\u001b[0;32m--> 454\u001b[0;31m     \u001b[0mparser\u001b[0m \u001b[0;34m=\u001b[0m \u001b[0mTextFileReader\u001b[0m\u001b[0;34m(\u001b[0m\u001b[0mfp_or_buf\u001b[0m\u001b[0;34m,\u001b[0m \u001b[0;34m**\u001b[0m\u001b[0mkwds\u001b[0m\u001b[0;34m)\u001b[0m\u001b[0;34m\u001b[0m\u001b[0;34m\u001b[0m\u001b[0m\n\u001b[0m\u001b[1;32m    455\u001b[0m \u001b[0;34m\u001b[0m\u001b[0m\n\u001b[1;32m    456\u001b[0m     \u001b[0;32mif\u001b[0m \u001b[0mchunksize\u001b[0m \u001b[0;32mor\u001b[0m \u001b[0miterator\u001b[0m\u001b[0;34m:\u001b[0m\u001b[0;34m\u001b[0m\u001b[0;34m\u001b[0m\u001b[0m\n",
            "\u001b[0;32m/usr/local/lib/python3.7/dist-packages/pandas/io/parsers.py\u001b[0m in \u001b[0;36m__init__\u001b[0;34m(self, f, engine, **kwds)\u001b[0m\n\u001b[1;32m    946\u001b[0m             \u001b[0mself\u001b[0m\u001b[0;34m.\u001b[0m\u001b[0moptions\u001b[0m\u001b[0;34m[\u001b[0m\u001b[0;34m\"has_index_names\"\u001b[0m\u001b[0;34m]\u001b[0m \u001b[0;34m=\u001b[0m \u001b[0mkwds\u001b[0m\u001b[0;34m[\u001b[0m\u001b[0;34m\"has_index_names\"\u001b[0m\u001b[0;34m]\u001b[0m\u001b[0;34m\u001b[0m\u001b[0;34m\u001b[0m\u001b[0m\n\u001b[1;32m    947\u001b[0m \u001b[0;34m\u001b[0m\u001b[0m\n\u001b[0;32m--> 948\u001b[0;31m         \u001b[0mself\u001b[0m\u001b[0;34m.\u001b[0m\u001b[0m_make_engine\u001b[0m\u001b[0;34m(\u001b[0m\u001b[0mself\u001b[0m\u001b[0;34m.\u001b[0m\u001b[0mengine\u001b[0m\u001b[0;34m)\u001b[0m\u001b[0;34m\u001b[0m\u001b[0;34m\u001b[0m\u001b[0m\n\u001b[0m\u001b[1;32m    949\u001b[0m \u001b[0;34m\u001b[0m\u001b[0m\n\u001b[1;32m    950\u001b[0m     \u001b[0;32mdef\u001b[0m \u001b[0mclose\u001b[0m\u001b[0;34m(\u001b[0m\u001b[0mself\u001b[0m\u001b[0;34m)\u001b[0m\u001b[0;34m:\u001b[0m\u001b[0;34m\u001b[0m\u001b[0;34m\u001b[0m\u001b[0m\n",
            "\u001b[0;32m/usr/local/lib/python3.7/dist-packages/pandas/io/parsers.py\u001b[0m in \u001b[0;36m_make_engine\u001b[0;34m(self, engine)\u001b[0m\n\u001b[1;32m   1178\u001b[0m     \u001b[0;32mdef\u001b[0m \u001b[0m_make_engine\u001b[0m\u001b[0;34m(\u001b[0m\u001b[0mself\u001b[0m\u001b[0;34m,\u001b[0m \u001b[0mengine\u001b[0m\u001b[0;34m=\u001b[0m\u001b[0;34m\"c\"\u001b[0m\u001b[0;34m)\u001b[0m\u001b[0;34m:\u001b[0m\u001b[0;34m\u001b[0m\u001b[0;34m\u001b[0m\u001b[0m\n\u001b[1;32m   1179\u001b[0m         \u001b[0;32mif\u001b[0m \u001b[0mengine\u001b[0m \u001b[0;34m==\u001b[0m \u001b[0;34m\"c\"\u001b[0m\u001b[0;34m:\u001b[0m\u001b[0;34m\u001b[0m\u001b[0;34m\u001b[0m\u001b[0m\n\u001b[0;32m-> 1180\u001b[0;31m             \u001b[0mself\u001b[0m\u001b[0;34m.\u001b[0m\u001b[0m_engine\u001b[0m \u001b[0;34m=\u001b[0m \u001b[0mCParserWrapper\u001b[0m\u001b[0;34m(\u001b[0m\u001b[0mself\u001b[0m\u001b[0;34m.\u001b[0m\u001b[0mf\u001b[0m\u001b[0;34m,\u001b[0m \u001b[0;34m**\u001b[0m\u001b[0mself\u001b[0m\u001b[0;34m.\u001b[0m\u001b[0moptions\u001b[0m\u001b[0;34m)\u001b[0m\u001b[0;34m\u001b[0m\u001b[0;34m\u001b[0m\u001b[0m\n\u001b[0m\u001b[1;32m   1181\u001b[0m         \u001b[0;32melse\u001b[0m\u001b[0;34m:\u001b[0m\u001b[0;34m\u001b[0m\u001b[0;34m\u001b[0m\u001b[0m\n\u001b[1;32m   1182\u001b[0m             \u001b[0;32mif\u001b[0m \u001b[0mengine\u001b[0m \u001b[0;34m==\u001b[0m \u001b[0;34m\"python\"\u001b[0m\u001b[0;34m:\u001b[0m\u001b[0;34m\u001b[0m\u001b[0;34m\u001b[0m\u001b[0m\n",
            "\u001b[0;32m/usr/local/lib/python3.7/dist-packages/pandas/io/parsers.py\u001b[0m in \u001b[0;36m__init__\u001b[0;34m(self, src, **kwds)\u001b[0m\n\u001b[1;32m   2008\u001b[0m         \u001b[0mkwds\u001b[0m\u001b[0;34m[\u001b[0m\u001b[0;34m\"usecols\"\u001b[0m\u001b[0;34m]\u001b[0m \u001b[0;34m=\u001b[0m \u001b[0mself\u001b[0m\u001b[0;34m.\u001b[0m\u001b[0musecols\u001b[0m\u001b[0;34m\u001b[0m\u001b[0;34m\u001b[0m\u001b[0m\n\u001b[1;32m   2009\u001b[0m \u001b[0;34m\u001b[0m\u001b[0m\n\u001b[0;32m-> 2010\u001b[0;31m         \u001b[0mself\u001b[0m\u001b[0;34m.\u001b[0m\u001b[0m_reader\u001b[0m \u001b[0;34m=\u001b[0m \u001b[0mparsers\u001b[0m\u001b[0;34m.\u001b[0m\u001b[0mTextReader\u001b[0m\u001b[0;34m(\u001b[0m\u001b[0msrc\u001b[0m\u001b[0;34m,\u001b[0m \u001b[0;34m**\u001b[0m\u001b[0mkwds\u001b[0m\u001b[0;34m)\u001b[0m\u001b[0;34m\u001b[0m\u001b[0;34m\u001b[0m\u001b[0m\n\u001b[0m\u001b[1;32m   2011\u001b[0m         \u001b[0mself\u001b[0m\u001b[0;34m.\u001b[0m\u001b[0munnamed_cols\u001b[0m \u001b[0;34m=\u001b[0m \u001b[0mself\u001b[0m\u001b[0;34m.\u001b[0m\u001b[0m_reader\u001b[0m\u001b[0;34m.\u001b[0m\u001b[0munnamed_cols\u001b[0m\u001b[0;34m\u001b[0m\u001b[0;34m\u001b[0m\u001b[0m\n\u001b[1;32m   2012\u001b[0m \u001b[0;34m\u001b[0m\u001b[0m\n",
            "\u001b[0;32mpandas/_libs/parsers.pyx\u001b[0m in \u001b[0;36mpandas._libs.parsers.TextReader.__cinit__\u001b[0;34m()\u001b[0m\n",
            "\u001b[0;32mpandas/_libs/parsers.pyx\u001b[0m in \u001b[0;36mpandas._libs.parsers.TextReader._setup_parser_source\u001b[0;34m()\u001b[0m\n",
            "\u001b[0;31mFileNotFoundError\u001b[0m: [Errno 2] No such file or directory: 'stage_2_detailed_class_info.csv'"
          ]
        }
      ]
    },
    {
      "cell_type": "code",
      "metadata": {
        "id": "wOOu54PeVfvY"
      },
      "source": [
        "covid_chestxray = '/content/covid-chestxray-dataset-master/metadata.csv'\n",
        "\n",
        "kaggle_csvname = 'stage_2_detailed_class_info.csv' # normal cases from kaggle dataset\n",
        "kaggle_csvname2 = 'stage_2_train_labels.csv' # pneumonia cases from kaggle dataset\n",
        "kaggle_imgpath = 'stage_2_train_images'\n",
        "\n",
        "related_views=[\"AP\",\"PA\",\"AP Supine\",\"AP semi erect\"]  #The view column in the covid_chestxray dataset that has suitable data\n",
        "filename_label = {'normal': [], 'pneumonia': [], 'COVID-19': []}\n",
        "\n",
        "mapping = dict() #mapping the types of the suitable data in the covid-chestxray-dataset into 3 classes\n",
        "mapping['COVID-19'] = 'COVID-19'\n",
        "mapping['COVID-19, ARDS'] = 'COVID-19'\n",
        "mapping['Pneumocystis'] = 'pneumonia'\n",
        "mapping['SARS'] = 'pneumonia'\n",
        "mapping['Streptococcus'] = 'pneumonia'\n",
        "mapping['Normal'] = 'normal'"
      ],
      "execution_count": 9,
      "outputs": []
    },
    {
      "cell_type": "code",
      "metadata": {
        "id": "ZTiJDDrudYHm"
      },
      "source": [
        "# In the next two cells we create All.csv\n",
        "covid_csv = pd.read_csv(covid_chestxray)\n",
        "for index, row in covid_csv.iterrows():\n",
        "    if row['finding'] in mapping:\n",
        "        if row['view'] in related_views:\n",
        "            if row['filename'] not in filename_label[mapping[row['finding']]]:\n",
        "                filename_label[mapping[row['finding']]].append(row['filename']) #add the suitable images names in the covid-chestxray-dataset\n",
        "                \n",
        "csv_normal = pd.read_csv(kaggle_csvname)\n",
        "csv_pneu = pd.read_csv(kaggle_csvname2)\n",
        "all_names=[]\n",
        "for index, row in csv_normal.iterrows():\n",
        "    if row['class'] == 'Normal':\n",
        "        if row['patientId'] not in all_names:\n",
        "            all_names.append(row['patientId'])\n",
        "            new_name=row['patientId']+'.dcm'\n",
        "            if new_name not in filename_label['normal']:\n",
        "                filename_label['normal'].append(new_name) #add the suitable normal cases names in the kaggle dataset\n",
        "        \n",
        "for index, row in csv_pneu.iterrows():\n",
        "    if int(row['Target']) == 1:\n",
        "        if row['patientId'] not in all_names:\n",
        "            all_names.append(row['patientId'])\n",
        "            new_name=row['patientId']+'.dcm'\n",
        "            if new_name not in filename_label['pneumonia']:\n",
        "                filename_label['pneumonia'].append(new_name) #add the suitable pneumonia cases names in the kaggle dataset"
      ],
      "execution_count": 10,
      "outputs": []
    },
    {
      "cell_type": "code",
      "metadata": {
        "id": "Oh-2OXqzdfjs"
      },
      "source": [
        "#Export All.csv\n",
        "with open('All.csv',newline='', mode='w') as csvfile:\n",
        "     csv_writer = csv.writer(csvfile, delimiter=',', quotechar='\"', quoting=csv.QUOTE_MINIMAL)\n",
        "     csv_writer.writerow(['filename','class'])\n",
        "     for key in filename_label:\n",
        "         for row in filename_label[key]:\n",
        "             if '.dcm' in row:\n",
        "                 new_row=row[:-4]+'.png'\n",
        "                 csv_writer.writerow([new_row,key])\n",
        "             else:\n",
        "                 csv_writer.writerow([row,key])    "
      ],
      "execution_count": 13,
      "outputs": []
    },
    {
      "cell_type": "code",
      "metadata": {
        "id": "6pQu9xNKdjr_"
      },
      "source": [
        "#We have divided patients infected to COVID-19 into five folds. This division is based on the covid-chestxray-dataset on 12 April\n",
        "#This dataset can change anytime, and you have to select the patients wisely\n",
        "ultimate_test_pneumonia = ['8', '31','171']\n",
        "ultimate_test_covid1  = ['19', '20', '36', '42', '86','13','96','51','49','116','150','151','168','56','70']\n",
        "ultimate_test_covid2=['2','4','6','11','12','13','14','15','117','152','163','167','142']\n",
        "ultimate_test_covid3=['16','17','18','21','33','34','36','37','44','45','46','47','165','166','164','161','160','132','162','159','158']\n",
        "ultimate_test_covid4=['39','40','41','43','44','45','46','47','48','50','51','52','157','156','155','154','153','151','149','148','147','146','145','71','72','73','74']\n",
        "ultimate_test_covid5=['53','56','57','58','59','60','61','62','63','64','65','66','67','68','69','118','132','139','138','141','144']"
      ],
      "execution_count": 14,
      "outputs": []
    },
    {
      "cell_type": "code",
      "metadata": {
        "id": "5PIuwkdAdn7Z"
      },
      "source": [
        "try:\n",
        "  os.mkdir('Our_data_fold')\n",
        "  os.mkdir('Our_data_fold/fold1')\n",
        "  os.mkdir('Our_data_fold/fold2')\n",
        "  os.mkdir('Our_data_fold/fold3')\n",
        "  os.mkdir('Our_data_fold/fold4')\n",
        "  os.mkdir('Our_data_fold/fold5')\n",
        "except:\n",
        "  pass"
      ],
      "execution_count": 15,
      "outputs": []
    },
    {
      "cell_type": "code",
      "metadata": {
        "colab": {
          "base_uri": "https://localhost:8080/",
          "height": 231
        },
        "id": "ObJ3EDiudtbA",
        "outputId": "947ee940-e4a8-4c53-ffb6-2bd191df2608"
      },
      "source": [
        "for fo in range(1,6):\n",
        "\n",
        "    related_views=[\"AP\",\"PA\",\"AP Supine\",\"AP semi erect\"]\n",
        "    filename_label = {'normal': [], 'pneumonia': [], 'COVID-19': []}\n",
        "    patients_id={'normal': [], 'pneumonia': [], 'COVID-19': []}\n",
        "    covid_csv = pd.read_csv(covid_chestxray)\n",
        "    for index, row in covid_csv.iterrows():\n",
        "        if row['finding'] in mapping:\n",
        "            if row['view'] in related_views:\n",
        "                if row['filename'] not in filename_label[mapping[row['finding']]]:\n",
        "                    filename_label[mapping[row['finding']]].append(row['filename'])\n",
        "                    patients_id[mapping[row['finding']]].append(row['patientid'])\n",
        "\n",
        "\n",
        "    ultimate_train={'normal': [], 'pneumonia': [], 'COVID-19': []} #the data that is common between all training phases\n",
        "    ultimated_test=[] #The covid-19 and some pneumonia cases that is considered for testing in each fold\n",
        "    ultimate_test_pneumonia = ['8', '31','171'] #The pneumonia cases that are selected for testing\n",
        "    ultimate_test_covid  = globals()['ultimate_test_covid{}'.format(fo)].copy()\n",
        "    for index, row in covid_csv.iterrows(): #add the suitable images names in the covid-chestxray-dataset\n",
        "        if  str(row['patientid']) in ultimate_test_covid or str(row['patientid']) in ultimate_test_pneumonia:\n",
        "            if row['view'] in related_views:\n",
        "                if row['filename'] not in ultimated_test:\n",
        "                    ultimated_test.append(row['filename'])\n",
        "    for flp in filename_label['pneumonia']:\n",
        "        if flp not in ultimated_test:\n",
        "            ultimate_train['pneumonia'].append(flp)\n",
        "    for flp in filename_label['COVID-19']:\n",
        "        if flp not in ultimated_test:\n",
        "            ultimate_train['COVID-19'].append(flp)\n",
        "        \n",
        "    csv_normal = pd.read_csv(kaggle_csvname)\n",
        "    csv_pneu =   pd.read_csv(kaggle_csvname2)\n",
        "    patients = {'normal': [], 'pneumonia': []}\n",
        "    all_names=[]\n",
        "    all_data=[]\n",
        "    for index, row in csv_normal.iterrows(): #add the suitable normal cases in the kaggle dataset\n",
        "        if row['class'] == 'Normal':\n",
        "            if row['patientId'] not in all_names:\n",
        "                all_names.append(row['patientId'])\n",
        "                all_data.append([row['patientId'],'normal'])\n",
        "                patients['normal'].append(row['patientId'])\n",
        "                new_name=row['patientId']+'.dcm'\n",
        "                if new_name not in filename_label['normal']:\n",
        "                    filename_label['normal'].append(new_name)\n",
        "    for index, row in csv_pneu.iterrows(): #add the suitable pneumonia cases in the kaggle dataset\n",
        "        if int(row['Target']) == 1:\n",
        "            if row['patientId'] not in all_names:\n",
        "                all_names.append(row['patientId'])\n",
        "                all_data.append([row['patientId'],'pneumonia'])\n",
        "                patients['pneumonia'].append(row['patientId'])\n",
        "                new_name=row['patientId']+'.dcm'\n",
        "                if new_name not in filename_label['pneumonia']:\n",
        "                    filename_label['pneumonia'].append(new_name)\n",
        "                             \n",
        "    temp_all_train={'normal': [], 'pneumonia': [], 'COVID-19': []}\n",
        "    for key in filename_label:\n",
        "        for fl in filename_label[key]:\n",
        "            if fl not in ultimated_test:\n",
        "                if fl not in ultimate_train[key]:\n",
        "                    temp_all_train[key].append(fl)    #the images that can be considered for training\n",
        "                    \n",
        "    for i in range(10):\n",
        "        for key in temp_all_train:\n",
        "            random.shuffle(temp_all_train[key])  #shuffle the training data\n",
        "    for i in range(1,9): # Choose data for each training phase\n",
        "        globals()['train{}'.format(i)]={'normal': [], 'pneumonia': ultimate_train['pneumonia'].copy(), 'COVID-19': ultimate_train['COVID-19'].copy()}\n",
        "        globals()['train{}'.format(i)]['normal'].extend(temp_all_train['normal'][250*i:(250*i)+250])\n",
        "        globals()['train{}'.format(i)]['pneumonia'].extend(temp_all_train['pneumonia'][200*i:(200*i)+200])\n",
        "\n",
        "    for i in range(1,9): #Export CSV\n",
        "        with open('Our_data_fold/fold{}/train{}.csv'.format(fo,i),newline='', mode='w') as csvfile:\n",
        "             all_rows=[]\n",
        "             csv_writer = csv.writer(csvfile, delimiter=',', quotechar='\"', quoting=csv.QUOTE_MINIMAL)\n",
        "             csv_writer.writerow(['filename','class'])\n",
        "             for key in globals()['train{}'.format(i)]:\n",
        "                 for row in globals()['train{}'.format(i)][key]:\n",
        "                     if '.dcm' in row:\n",
        "                         new_row=row[:-4]+'.png'\n",
        "                         all_rows.append([new_row,key])\n",
        "                     else:\n",
        "                         if '.png ' in row:\n",
        "                             all_rows.append([row[:-1],key])\n",
        "                         else:\n",
        "                            all_rows.append([row,key])\n",
        "             for j in range(10):\n",
        "                random.shuffle(all_rows)\n",
        "             for arow in all_rows:\n",
        "                csv_writer.writerow(arow)\n",
        "    print('train list in fold{}'.format(fo),{'normal':len(globals()['train{}'.format(i)]['normal']),\n",
        "                                             'pneumonia':len(globals()['train{}'.format(i)]['pneumonia']),\n",
        "                                                             'COVID-19':len(globals()['train{}'.format(i)]['COVID-19'])})\n"
      ],
      "execution_count": 19,
      "outputs": [
        {
          "output_type": "error",
          "ename": "FileNotFoundError",
          "evalue": "ignored",
          "traceback": [
            "\u001b[0;31m---------------------------------------------------------------------------\u001b[0m",
            "\u001b[0;31mFileNotFoundError\u001b[0m                         Traceback (most recent call last)",
            "\u001b[0;32m<ipython-input-19-0cc9c41cdac8>\u001b[0m in \u001b[0;36m<module>\u001b[0;34m()\u001b[0m\n\u001b[1;32m     69\u001b[0m \u001b[0;34m\u001b[0m\u001b[0m\n\u001b[1;32m     70\u001b[0m     \u001b[0;32mfor\u001b[0m \u001b[0mi\u001b[0m \u001b[0;32min\u001b[0m \u001b[0mrange\u001b[0m\u001b[0;34m(\u001b[0m\u001b[0;36m1\u001b[0m\u001b[0;34m,\u001b[0m\u001b[0;36m9\u001b[0m\u001b[0;34m)\u001b[0m\u001b[0;34m:\u001b[0m \u001b[0;31m#Export CSV\u001b[0m\u001b[0;34m\u001b[0m\u001b[0;34m\u001b[0m\u001b[0m\n\u001b[0;32m---> 71\u001b[0;31m         \u001b[0;32mwith\u001b[0m \u001b[0mopen\u001b[0m\u001b[0;34m(\u001b[0m\u001b[0;34m'Our_data_fold/fold{}/train{}.csv'\u001b[0m\u001b[0;34m.\u001b[0m\u001b[0mformat\u001b[0m\u001b[0;34m(\u001b[0m\u001b[0mfo\u001b[0m\u001b[0;34m,\u001b[0m\u001b[0mi\u001b[0m\u001b[0;34m)\u001b[0m\u001b[0;34m,\u001b[0m\u001b[0mnewline\u001b[0m\u001b[0;34m=\u001b[0m\u001b[0;34m''\u001b[0m\u001b[0;34m,\u001b[0m \u001b[0mmode\u001b[0m\u001b[0;34m=\u001b[0m\u001b[0;34m'w'\u001b[0m\u001b[0;34m)\u001b[0m \u001b[0;32mas\u001b[0m \u001b[0mcsvfile\u001b[0m\u001b[0;34m:\u001b[0m\u001b[0;34m\u001b[0m\u001b[0;34m\u001b[0m\u001b[0m\n\u001b[0m\u001b[1;32m     72\u001b[0m              \u001b[0mall_rows\u001b[0m\u001b[0;34m=\u001b[0m\u001b[0;34m[\u001b[0m\u001b[0;34m]\u001b[0m\u001b[0;34m\u001b[0m\u001b[0;34m\u001b[0m\u001b[0m\n\u001b[1;32m     73\u001b[0m              \u001b[0mcsv_writer\u001b[0m \u001b[0;34m=\u001b[0m \u001b[0mcsv\u001b[0m\u001b[0;34m.\u001b[0m\u001b[0mwriter\u001b[0m\u001b[0;34m(\u001b[0m\u001b[0mcsvfile\u001b[0m\u001b[0;34m,\u001b[0m \u001b[0mdelimiter\u001b[0m\u001b[0;34m=\u001b[0m\u001b[0;34m','\u001b[0m\u001b[0;34m,\u001b[0m \u001b[0mquotechar\u001b[0m\u001b[0;34m=\u001b[0m\u001b[0;34m'\"'\u001b[0m\u001b[0;34m,\u001b[0m \u001b[0mquoting\u001b[0m\u001b[0;34m=\u001b[0m\u001b[0mcsv\u001b[0m\u001b[0;34m.\u001b[0m\u001b[0mQUOTE_MINIMAL\u001b[0m\u001b[0;34m)\u001b[0m\u001b[0;34m\u001b[0m\u001b[0;34m\u001b[0m\u001b[0m\n",
            "\u001b[0;31mFileNotFoundError\u001b[0m: [Errno 2] No such file or directory: 'Our_data_fold/fold1/train1.csv'"
          ]
        }
      ]
    }
  ]
}